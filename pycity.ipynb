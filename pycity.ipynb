{
 "cells": [
  {
   "cell_type": "markdown",
   "metadata": {},
   "source": [
    "<H1> PyCity Schools Challenge"
   ]
  },
  {
   "cell_type": "markdown",
   "metadata": {},
   "source": [
    "<p>Author: Alex Schanne\n",
    "<p>This notebook will analyze school performances within PyCity. It will focus on math and reading performance using grades as the metric for evaluation. It will also consider school spending, size and type (i.e. charter vs district) as factors of performance."
   ]
  },
  {
   "cell_type": "code",
   "execution_count": 1,
   "metadata": {},
   "outputs": [],
   "source": [
    "#importing dependencies\n",
    "import pandas as pd\n",
    "import numpy as np"
   ]
  },
  {
   "cell_type": "code",
   "execution_count": 2,
   "metadata": {},
   "outputs": [],
   "source": [
    "#Creating path to csv and read it into Pandas DataFrame\n",
    "schools_path = \"Resources/schools_complete.csv\"\n",
    "students_path = \"Resources/students_complete.csv\"\n",
    "\n",
    "schools_df = pd.read_csv(schools_path)\n",
    "students_df = pd.read_csv(students_path)"
   ]
  },
  {
   "cell_type": "code",
   "execution_count": 3,
   "metadata": {},
   "outputs": [
    {
     "data": {
      "text/html": [
       "<div>\n",
       "<style scoped>\n",
       "    .dataframe tbody tr th:only-of-type {\n",
       "        vertical-align: middle;\n",
       "    }\n",
       "\n",
       "    .dataframe tbody tr th {\n",
       "        vertical-align: top;\n",
       "    }\n",
       "\n",
       "    .dataframe thead th {\n",
       "        text-align: right;\n",
       "    }\n",
       "</style>\n",
       "<table border=\"1\" class=\"dataframe\">\n",
       "  <thead>\n",
       "    <tr style=\"text-align: right;\">\n",
       "      <th></th>\n",
       "      <th>Student ID</th>\n",
       "      <th>student_name</th>\n",
       "      <th>gender</th>\n",
       "      <th>grade</th>\n",
       "      <th>school_name</th>\n",
       "      <th>reading_score</th>\n",
       "      <th>math_score</th>\n",
       "      <th>School ID</th>\n",
       "      <th>type</th>\n",
       "      <th>size</th>\n",
       "      <th>budget</th>\n",
       "    </tr>\n",
       "  </thead>\n",
       "  <tbody>\n",
       "    <tr>\n",
       "      <th>0</th>\n",
       "      <td>0</td>\n",
       "      <td>Paul Bradley</td>\n",
       "      <td>M</td>\n",
       "      <td>9th</td>\n",
       "      <td>Huang High School</td>\n",
       "      <td>66</td>\n",
       "      <td>79</td>\n",
       "      <td>0</td>\n",
       "      <td>District</td>\n",
       "      <td>2917</td>\n",
       "      <td>1910635</td>\n",
       "    </tr>\n",
       "    <tr>\n",
       "      <th>1</th>\n",
       "      <td>1</td>\n",
       "      <td>Victor Smith</td>\n",
       "      <td>M</td>\n",
       "      <td>12th</td>\n",
       "      <td>Huang High School</td>\n",
       "      <td>94</td>\n",
       "      <td>61</td>\n",
       "      <td>0</td>\n",
       "      <td>District</td>\n",
       "      <td>2917</td>\n",
       "      <td>1910635</td>\n",
       "    </tr>\n",
       "    <tr>\n",
       "      <th>2</th>\n",
       "      <td>2</td>\n",
       "      <td>Kevin Rodriguez</td>\n",
       "      <td>M</td>\n",
       "      <td>12th</td>\n",
       "      <td>Huang High School</td>\n",
       "      <td>90</td>\n",
       "      <td>60</td>\n",
       "      <td>0</td>\n",
       "      <td>District</td>\n",
       "      <td>2917</td>\n",
       "      <td>1910635</td>\n",
       "    </tr>\n",
       "    <tr>\n",
       "      <th>3</th>\n",
       "      <td>3</td>\n",
       "      <td>Dr. Richard Scott</td>\n",
       "      <td>M</td>\n",
       "      <td>12th</td>\n",
       "      <td>Huang High School</td>\n",
       "      <td>67</td>\n",
       "      <td>58</td>\n",
       "      <td>0</td>\n",
       "      <td>District</td>\n",
       "      <td>2917</td>\n",
       "      <td>1910635</td>\n",
       "    </tr>\n",
       "    <tr>\n",
       "      <th>4</th>\n",
       "      <td>4</td>\n",
       "      <td>Bonnie Ray</td>\n",
       "      <td>F</td>\n",
       "      <td>9th</td>\n",
       "      <td>Huang High School</td>\n",
       "      <td>97</td>\n",
       "      <td>84</td>\n",
       "      <td>0</td>\n",
       "      <td>District</td>\n",
       "      <td>2917</td>\n",
       "      <td>1910635</td>\n",
       "    </tr>\n",
       "  </tbody>\n",
       "</table>\n",
       "</div>"
      ],
      "text/plain": [
       "   Student ID       student_name gender grade        school_name  \\\n",
       "0           0       Paul Bradley      M   9th  Huang High School   \n",
       "1           1       Victor Smith      M  12th  Huang High School   \n",
       "2           2    Kevin Rodriguez      M  12th  Huang High School   \n",
       "3           3  Dr. Richard Scott      M  12th  Huang High School   \n",
       "4           4         Bonnie Ray      F   9th  Huang High School   \n",
       "\n",
       "   reading_score  math_score  School ID      type  size   budget  \n",
       "0             66          79          0  District  2917  1910635  \n",
       "1             94          61          0  District  2917  1910635  \n",
       "2             90          60          0  District  2917  1910635  \n",
       "3             67          58          0  District  2917  1910635  \n",
       "4             97          84          0  District  2917  1910635  "
      ]
     },
     "execution_count": 3,
     "metadata": {},
     "output_type": "execute_result"
    }
   ],
   "source": [
    "#merging the two datasets\n",
    "school_complete = pd.merge(students_df, schools_df, how = \"left\", on = [\"school_name\", \"school_name\"])\n",
    "school_complete.head()"
   ]
  },
  {
   "cell_type": "markdown",
   "metadata": {},
   "source": [
    "## School Summary\n",
    "\n",
    "Now that we have set up the data properly and merged the two datasets, we will create a summary for the district. It will include: \n",
    "    <li> Total Number of Schools\n",
    "    <li> Total Number of Students\n",
    "    <li> Total Budget\n",
    "    <li> Average Math Score\n",
    "    <li> Average Reading Score\n",
    "    <li> The percentage of students with a passing math score (70% or higher)\n",
    "    <li> The percentage of students with a passing reading score (70% or higher)\n",
    "    <li> The percentage of students passing math and reading (% Overall passing)\n",
    "        \n",
    " <p> <b> Please note that this data may have errors in it. It was not cleaned for anomalies."
   ]
  },
  {
   "cell_type": "code",
   "execution_count": 4,
   "metadata": {},
   "outputs": [
    {
     "data": {
      "text/html": [
       "<div>\n",
       "<style scoped>\n",
       "    .dataframe tbody tr th:only-of-type {\n",
       "        vertical-align: middle;\n",
       "    }\n",
       "\n",
       "    .dataframe tbody tr th {\n",
       "        vertical-align: top;\n",
       "    }\n",
       "\n",
       "    .dataframe thead th {\n",
       "        text-align: right;\n",
       "    }\n",
       "</style>\n",
       "<table border=\"1\" class=\"dataframe\">\n",
       "  <thead>\n",
       "    <tr style=\"text-align: right;\">\n",
       "      <th></th>\n",
       "      <th>Total Schools</th>\n",
       "      <th>Total Students</th>\n",
       "      <th>Total Budget</th>\n",
       "      <th>Average Math Score</th>\n",
       "      <th>Average Reading Score</th>\n",
       "      <th>% Passing Math</th>\n",
       "      <th>% Passing Reading</th>\n",
       "      <th>% Passing Overall</th>\n",
       "    </tr>\n",
       "  </thead>\n",
       "  <tbody>\n",
       "    <tr>\n",
       "      <th>0</th>\n",
       "      <td>15</td>\n",
       "      <td>39,170</td>\n",
       "      <td>$24,649,428.00</td>\n",
       "      <td>78.99</td>\n",
       "      <td>81.88</td>\n",
       "      <td>74.98%</td>\n",
       "      <td>85.81%</td>\n",
       "      <td>65.17%</td>\n",
       "    </tr>\n",
       "  </tbody>\n",
       "</table>\n",
       "</div>"
      ],
      "text/plain": [
       "   Total Schools Total Students    Total Budget Average Math Score  \\\n",
       "0             15         39,170  $24,649,428.00              78.99   \n",
       "\n",
       "  Average Reading Score % Passing Math % Passing Reading % Passing Overall  \n",
       "0                 81.88         74.98%            85.81%            65.17%  "
      ]
     },
     "execution_count": 4,
     "metadata": {},
     "output_type": "execute_result"
    }
   ],
   "source": [
    "#Calculating the needed information for the school summary data and creating the dataframe\n",
    "tot_schools = school_complete[\"school_name\"].nunique()\n",
    "tot_students = school_complete[\"student_name\"].count()\n",
    "tot_budget = schools_df[\"budget\"].sum()\n",
    "avg_math = school_complete[\"math_score\"].mean()\n",
    "avg_read = school_complete[\"reading_score\"].mean()\n",
    "math_pass = (len(school_complete[school_complete[\"math_score\"] >= 70]))/tot_students * 100\n",
    "read_pass = (len(school_complete[school_complete[\"reading_score\"] >= 70]))/tot_students * 100\n",
    "overall_pass = len(school_complete.loc[(school_complete[\"math_score\"] >= 70) & (school_complete[\"reading_score\"] >= 70)])/tot_students * 100\n",
    "\n",
    "#Creating the DataFrame and formatting it for a cleaner picture of the data\n",
    "school_sum =[{\"Total Schools\":tot_schools,\n",
    "              \"Total Students\": '{:,}'.format(tot_students), \n",
    "              \"Total Budget\": '${:,.2f}'.format(tot_budget), \n",
    "              \"Average Math Score\": '{:,.2f}'.format(avg_math), \n",
    "              \"Average Reading Score\": '{:,.2f}'.format(avg_read), \n",
    "              \"% Passing Math\": '{:.2f}%'.format(math_pass), \n",
    "              \"% Passing Reading\": '{:.2f}%'.format(read_pass), \n",
    "              \"% Passing Overall\":'{:.2f}%'.format(overall_pass)}]\n",
    "sum_df = pd.DataFrame(school_sum)\n",
    "sum_df"
   ]
  },
  {
   "cell_type": "markdown",
   "metadata": {},
   "source": [
    "Now that we have created the District wide summary. We will look at a summary of the district, broken down by school. Having this will make it easier to analyze school performance according to our key metrics. "
   ]
  },
  {
   "cell_type": "code",
   "execution_count": 9,
   "metadata": {},
   "outputs": [
    {
     "data": {
      "text/html": [
       "<div>\n",
       "<style scoped>\n",
       "    .dataframe tbody tr th:only-of-type {\n",
       "        vertical-align: middle;\n",
       "    }\n",
       "\n",
       "    .dataframe tbody tr th {\n",
       "        vertical-align: top;\n",
       "    }\n",
       "\n",
       "    .dataframe thead th {\n",
       "        text-align: right;\n",
       "    }\n",
       "</style>\n",
       "<table border=\"1\" class=\"dataframe\">\n",
       "  <thead>\n",
       "    <tr style=\"text-align: right;\">\n",
       "      <th></th>\n",
       "      <th>School Type</th>\n",
       "      <th>Total Students</th>\n",
       "      <th>Total School Budget</th>\n",
       "      <th>Per Student Budget</th>\n",
       "      <th>Average Math Score</th>\n",
       "      <th>Average Reading Score</th>\n",
       "      <th>% Passing Math</th>\n",
       "      <th>% Passing Reading</th>\n",
       "      <th>Overall Passing Rate</th>\n",
       "    </tr>\n",
       "  </thead>\n",
       "  <tbody>\n",
       "    <tr>\n",
       "      <th>0</th>\n",
       "      <td>school_name\n",
       "Huang High School        District\n",
       "...</td>\n",
       "      <td>school_name\n",
       "Bailey High School       4976\n",
       "Cabr...</td>\n",
       "      <td>school_name\n",
       "Huang High School        1910635\n",
       "F...</td>\n",
       "      <td>school_name\n",
       "Bailey High School       628.0\n",
       "Cab...</td>\n",
       "      <td>school_name\n",
       "Bailey High School       77.048432...</td>\n",
       "      <td>school_name\n",
       "Bailey High School       81.033963...</td>\n",
       "      <td>school_name\n",
       "Bailey High School       66.680064...</td>\n",
       "      <td>school_name\n",
       "Bailey High School       81.933280...</td>\n",
       "      <td>school_name\n",
       "Bailey High School       54.642283...</td>\n",
       "    </tr>\n",
       "  </tbody>\n",
       "</table>\n",
       "</div>"
      ],
      "text/plain": [
       "                                         School Type  \\\n",
       "0  school_name\n",
       "Huang High School        District\n",
       "...   \n",
       "\n",
       "                                      Total Students  \\\n",
       "0  school_name\n",
       "Bailey High School       4976\n",
       "Cabr...   \n",
       "\n",
       "                                 Total School Budget  \\\n",
       "0  school_name\n",
       "Huang High School        1910635\n",
       "F...   \n",
       "\n",
       "                                  Per Student Budget  \\\n",
       "0  school_name\n",
       "Bailey High School       628.0\n",
       "Cab...   \n",
       "\n",
       "                                  Average Math Score  \\\n",
       "0  school_name\n",
       "Bailey High School       77.048432...   \n",
       "\n",
       "                               Average Reading Score  \\\n",
       "0  school_name\n",
       "Bailey High School       81.033963...   \n",
       "\n",
       "                                      % Passing Math  \\\n",
       "0  school_name\n",
       "Bailey High School       66.680064...   \n",
       "\n",
       "                                   % Passing Reading  \\\n",
       "0  school_name\n",
       "Bailey High School       81.933280...   \n",
       "\n",
       "                                Overall Passing Rate  \n",
       "0  school_name\n",
       "Bailey High School       54.642283...  "
      ]
     },
     "execution_count": 9,
     "metadata": {},
     "output_type": "execute_result"
    }
   ],
   "source": [
    "#Calculating and creating a dataframe grouped by each school\n",
    "group_school = school_complete.set_index(\"school_name\").groupby([\"school_name\"])\n",
    "\n",
    "typeschool = schools_df.set_index(['school_name'])['type']\n",
    "sch_stud = group_school['Student ID'].count()\n",
    "sch_budg = schools_df.set_index('school_name')['budget']\n",
    "budg_per_stud = sch_budg/sch_stud\n",
    "sch_avgmath = group_school['math_score'].mean()\n",
    "sch_avgread = group_school['reading_score'].mean()\n",
    "sch_mathpass = school_complete[school_complete[\"math_score\"] >= 70].groupby(['school_name'])['Student ID'].count()\n",
    "per_mathpass = sch_mathpass/sch_stud * 100\n",
    "sch_readpass = school_complete[school_complete[\"reading_score\"] >= 70].groupby(['school_name'])['Student ID'].count()/sch_stud * 100\n",
    "sch_overall = school_complete[(school_complete[\"math_score\"] >= 70) & (school_complete[\"reading_score\"] >= 70)].groupby(['school_name'])['Student ID'].count()/sch_stud * 100\n",
    "\n",
    "#formatting and outputting the dataframe\n",
    "schools = [{\"School Type\":typeschool,\n",
    "            \"Total Students\":sch_stud,\n",
    "            \"Total School Budget\":sch_budg,\n",
    "            \"Per Student Budget\": budg_per_stud,\n",
    "            \"Average Math Score\":sch_avgmath,\n",
    "            \"Average Reading Score\":sch_avgread,\n",
    "            \"% Passing Math\":per_mathpass,\n",
    "            \"% Passing Reading\":sch_readpass,\n",
    "            \"Overall Passing Rate\":sch_overall}]\n",
    "\n",
    "schools_summary = pd.DataFrame(schools)\n",
    "\n",
    "schools_summary"
   ]
  },
  {
   "cell_type": "markdown",
   "metadata": {},
   "source": [
    "## Top Performing Schools (By % Overall Passing)\n",
    "\n",
    "These are the top five performing schools as determined by overall percent of passing students."
   ]
  },
  {
   "cell_type": "code",
   "execution_count": null,
   "metadata": {},
   "outputs": [],
   "source": [
    "#using the previously created schools_summary dataframe and sorting it by overall passing percentage\n",
    "\n",
    "top_overallpass = schools_summary.sort_values(\"Overall Passing Rate\", ascending = False)\n",
    "top_overallpass.head(5)"
   ]
  },
  {
   "cell_type": "markdown",
   "metadata": {},
   "source": [
    "## Bottom Performing Schools (By % Overall Passing)\n",
    "\n",
    "These are the worst performing schools as determined by overall percentage of passing students."
   ]
  },
  {
   "cell_type": "code",
   "execution_count": null,
   "metadata": {},
   "outputs": [],
   "source": [
    "#using the previously defined schools dataframe and sorting it by descending value order\n",
    "\n",
    "bottom_overallpass = schools_summary.sort_values(\"Overall Passing Rate\", ascending = True)\n",
    "bottom_overallpass.head(5)"
   ]
  },
  {
   "cell_type": "markdown",
   "metadata": {},
   "source": [
    "## Math Scores by Grade\n",
    "\n",
    "The following work will provide average math scores for each grade level (9th through 12th grade) as reported for the schools in the district."
   ]
  },
  {
   "cell_type": "code",
   "execution_count": null,
   "metadata": {},
   "outputs": [],
   "source": [
    "#math scores by grade level\n",
    "nine_math = students_df.loc[students_df['grade']== \"9th\"].groupby(['school_name'])['math_score'].mean()\n",
    "ten_math = students_df.loc[students_df['grade']== \"10th\"].groupby(['school_name'])['math_score'].mean()\n",
    "eleven_math = students_df.loc[students_df['grade']== \"11th\"].groupby(['school_name'])['math_score'].mean()\n",
    "twelve_math = students_df.loc[students_df['grade']== \"12th\"].groupby(['school_name'])['math_score'].mean()\n",
    "\n",
    "math = pd.DataFrame({\n",
    "    \"9th Grade\": nine_math,\n",
    "    \"10th Grade\": ten_math,\n",
    "    \"11th Grade\": eleven_math,\n",
    "    \"12th Grade\": twelve_math\n",
    "})\n",
    "\n",
    "math = math[['9th Grade', '10th Grade', '11th Grade', '12th Grade']]\n",
    "math.index.name = \"School\"\n",
    "math"
   ]
  },
  {
   "cell_type": "markdown",
   "metadata": {},
   "source": [
    "## Reading Score by Grade\n",
    "\n",
    "The following work will provide average reading scores for each grade level (9th through 12th grade) as reported for the schools in the district."
   ]
  },
  {
   "cell_type": "code",
   "execution_count": null,
   "metadata": {},
   "outputs": [],
   "source": [
    "#reading scores by grade level\n",
    "nine_read = students_df.loc[students_df['grade']== \"9th\"].groupby(['school_name'])['reading_score'].mean()\n",
    "ten_read = students_df.loc[students_df['grade']== \"10th\"].groupby(['school_name'])['reading_score'].mean()\n",
    "eleven_read = students_df.loc[students_df['grade']== \"11th\"].groupby(['school_name'])['reading_score'].mean()\n",
    "twelve_read = students_df.loc[students_df['grade']== \"12th\"].groupby(['school_name'])['reading_score'].mean()\n",
    "\n",
    "read = pd.DataFrame({\n",
    "    \"9th Grade\": nine_read,\n",
    "    \"10th Grade\": ten_read,\n",
    "    \"11th Grade\": eleven_read,\n",
    "    \"12th Grade\": twelve_read\n",
    "})\n",
    "\n",
    "read = read[['9th Grade', '10th Grade', '11th Grade', '12th Grade']]\n",
    "read.index.name = \"School\"\n",
    "read"
   ]
  },
  {
   "cell_type": "markdown",
   "metadata": {},
   "source": [
    "## Scores by School Spending\n",
    "\n",
    "The following will analyze school performance based on average spending by number of students.\n",
    "In order to do so, the data will be binned into ranges of school spending."
   ]
  },
  {
   "cell_type": "code",
   "execution_count": null,
   "metadata": {},
   "outputs": [],
   "source": [
    "#Creating the bins in which the data will be held\n",
    "bin = [0, 584, 629, 644, 675]\n",
    "bin_names = [\"<$584\", \"$585-$629\", \"$630-$644\", \"$645-$675\"]\n",
    "school_complete['budg_bin'] = pd.cut(school_complete['budget']/school_complete['size'], bin, labels = bin_names)\n",
    "bin_spend = school_complete.groupby('budg_bin')\n",
    "\n",
    "\n",
    "#Calculating the data to go in the new binned DataFrame\n",
    "avgmath = bin_spend['math_score'].mean()\n",
    "avgread = bin_spend['reading_score'].mean()\n",
    "passmath = school_complete[school_complete['math_score'] >= 70].groupby(['budg_bin'])['Student ID'].count()/bin_spend['Student ID'].count() *100\n",
    "passread = school_complete[school_complete['reading_score'] >= 70].groupby(['budg_bin'])['Student ID'].count()/bin_spend['Student ID'].count() * 100\n",
    "overpass = school_complete[(school_complete['math_score'] >= 70) & (school_complete['reading_score'] >= 70)].groupby(['budg_bin'])['Student ID'].count()/bin_spend['Student ID'].count() * 100\n",
    "\n",
    "#Creating teh new binned DataFrame\n",
    "bin_by_spend = pd.DataFrame({\"Average Math Score\": avgmath,\n",
    "                            \"Average Reading Score\": avgread,\n",
    "                            \"% Passing Math\": passmath,\n",
    "                            \"% Passing Reading\": passread,\n",
    "                            \"Overall % Passing\": overpass})\n",
    "\n",
    "bin_by_spend"
   ]
  },
  {
   "cell_type": "markdown",
   "metadata": {},
   "source": [
    "## Scores by School Size\n",
    "\n",
    "The following will analyze school performances based on school sizes. Again, this analysis will require binning the data into groups. In this instance, we will create three bins to represent small (<1000), medium (1000-2000), or large (>2000) schools. "
   ]
  },
  {
   "cell_type": "code",
   "execution_count": null,
   "metadata": {},
   "outputs": [],
   "source": [
    "#Creating the bins in which the data will be held\n",
    "sizebins = [0, 999, 1999, 9999999999]\n",
    "size_names = [\"Small (<1000)\", \"Medium (1000-2000)\" , \"Large (>2000)\"]\n",
    "school_complete['size_bins'] = pd.cut(school_complete['size'], sizebins, labels = size_names)\n",
    "sizes = school_complete.groupby('size_bins')\n",
    " \n",
    "avgmath = sizes['math_score'].mean()\n",
    "avgread = sizes['reading_score'].mean()\n",
    "passmath = school_complete[school_complete['math_score'] >= 70].groupby('size_bins')['Student ID'].count()/sizes['Student ID'].count() * 100\n",
    "passread = school_complete[school_complete['reading_score'] >= 70].groupby('size_bins')['Student ID'].count()/sizes['Student ID'].count() * 100\n",
    "overpass = school_complete[(school_complete['reading_score'] >= 70) & (school_complete['math_score'] >= 70)].groupby('size_bins')['Student ID'].count()/sizes['Student ID'].count() * 100\n",
    "            \n",
    "bin_by_size = pd.DataFrame({\"Average Math Score\": avgmath,\n",
    "    \"Average Reading Score\": avgread,\n",
    "    '% Passing Math': passmath,\n",
    "    '% Passing Reading': passread,\n",
    "    \"Overall Passing Rate\": overpass\n",
    "            \n",
    "})          \n",
    "bin_by_size"
   ]
  },
  {
   "cell_type": "markdown",
   "metadata": {},
   "source": [
    "## Scores by School Type\n",
    "\n",
    "The following will analyze school performances based on school type (District vs. Charter)"
   ]
  },
  {
   "cell_type": "code",
   "execution_count": null,
   "metadata": {},
   "outputs": [],
   "source": [
    "#Grouping the school district by typ of school and analyzing performance\n",
    "types = school_complete.groupby('type')\n",
    " \n",
    "avgmath = types['math_score'].mean()\n",
    "avgread = types['reading_score'].mean()\n",
    "avgbudg = types['budget'].mean()\n",
    "passmath = school_complete[school_complete['math_score'] >= 70].groupby('type')['Student ID'].count()/types['Student ID'].count() * 100\n",
    "passread = school_complete[school_complete['reading_score'] >= 70].groupby('type')['Student ID'].count()/types['Student ID'].count() * 100\n",
    "overpass = school_complete[(school_complete['reading_score'] >= 70) & (school_complete['math_score'] >= 70)].groupby('type')['Student ID'].count()/types['Student ID'].count() * 100\n",
    "            \n",
    "grouptype = pd.DataFrame({\"Average Budget\": '${:,.2f}'.format(avgbudg),\n",
    "    \"Average Math Score\": avgmath,\n",
    "    \"Average Reading Score\": avgread,\n",
    "    '% Passing Math': passmath,\n",
    "    '% Passing Reading': passread,\n",
    "    \"Overall Passing Rate\": overpass\n",
    "            \n",
    "})          \n",
    "grouptype\n"
   ]
  },
  {
   "cell_type": "markdown",
   "metadata": {},
   "source": [
    "# Written Observations"
   ]
  },
  {
   "cell_type": "markdown",
   "metadata": {},
   "source": []
  }
 ],
 "metadata": {
  "kernelspec": {
   "display_name": "Python [conda env:PythonData] *",
   "language": "python",
   "name": "conda-env-PythonData-py"
  },
  "language_info": {
   "codemirror_mode": {
    "name": "ipython",
    "version": 3
   },
   "file_extension": ".py",
   "mimetype": "text/x-python",
   "name": "python",
   "nbconvert_exporter": "python",
   "pygments_lexer": "ipython3",
   "version": "3.6.10"
  }
 },
 "nbformat": 4,
 "nbformat_minor": 4
}
